{
 "cells": [
  {
   "cell_type": "markdown",
   "metadata": {},
   "source": [
    "## 1 \n",
    "Write a function so that the columns of the output matrix are powers of the input\n",
    "vector.\n",
    "The order of the powers is determined by the increasing boolean argument. Specifically, when\n",
    "increasing is False, the i-th output column is the input vector raised element-wise to the power\n",
    "of N - i - 1.\n",
    "HINT: Such a matrix with a geometric progression in each row is named for Alexandre-\n",
    "Theophile Vandermonde."
   ]
  },
  {
   "cell_type": "code",
   "execution_count": 28,
   "metadata": {},
   "outputs": [],
   "source": [
    "import numpy as np"
   ]
  },
  {
   "cell_type": "code",
   "execution_count": 77,
   "metadata": {},
   "outputs": [
    {
     "name": "stdout",
     "output_type": "stream",
     "text": [
      "Matrix in increasing order:\n",
      "[[  1   1   1   1]\n",
      " [  1   2   4   8]\n",
      " [  1   3   9  27]\n",
      " [  1   4  16  64]\n",
      " [  1   5  25 125]\n",
      " [  1   6  36 216]\n",
      " [  1   7  49 343]\n",
      " [  1   8  64 512]]\n",
      "\n",
      "\n",
      "Matrix in decreasing order:\n",
      "[[  1   1   1   1]\n",
      " [  8   4   2   1]\n",
      " [ 27   9   3   1]\n",
      " [ 64  16   4   1]\n",
      " [125  25   5   1]\n",
      " [216  36   6   1]\n",
      " [343  49   7   1]\n",
      " [512  64   8   1]]\n"
     ]
    }
   ],
   "source": [
    "def ATVMatrix(inpvector, ncol, increasing):\n",
    "    if(increasing):\n",
    "        out= np.array([elem ** pow for elem in inpvector for pow in range(ncol)],).reshape(len(inpvector),ncol)\n",
    "    else:\n",
    "        out= np.array([elem ** (ncol-1-pow) for elem in inpvector for pow in range(ncol)],).reshape(len(inpvector),ncol)\n",
    "    return out\n",
    "\n",
    "inpvector = [1,2,3,4,5,6,7,8]\n",
    "incmat = np.array(ATVMatrix(inpvector, 4, True))\n",
    "decmat = np.array(ATVMatrix(inpvector, 4, False))\n",
    "print(\"Matrix in increasing order:\")\n",
    "print(incmat)\n",
    "print(\"\\n\\nMatrix in decreasing order:\")\n",
    "print(decmat)"
   ]
  },
  {
   "cell_type": "markdown",
   "metadata": {},
   "source": [
    "## 2\n",
    "Given a sequence of n values x1, x2, ..., xn and a window size k>0, the k-th moving average of\n",
    "the given sequence is defined as follows:\n",
    "The moving average sequence has n-k+1 elements as shown below.\n",
    "The moving averages with k=4 of a ten-value sequence (n=10) is shown below\n",
    "i 1 2 3 4 5 6 7 8 9 10\n",
    "===== == == == == == == == == == ==\n",
    "Input 10 20 30 40 50 60 70 80 90 100\n",
    "y1 25 = (10+20+30+40)/4\n",
    "y2 35 = (20+30+40+50)/4\n",
    "y3 45 = (30+40+50+60)/4\n",
    "y4 55 = (40+50+60+70)/4\n",
    "y5 65 = (50+60+70+80)/4\n",
    "y6 75 = (60+70+80+90)/4\n",
    "y7 85 = (70+80+90+100)/4\n",
    "Thus, the moving average sequence has n-k+1=10-4+1=7 values."
   ]
  },
  {
   "cell_type": "code",
   "execution_count": 107,
   "metadata": {},
   "outputs": [
    {
     "name": "stdout",
     "output_type": "stream",
     "text": [
      "[25. 35. 45. 55. 65. 75. 85.]\n"
     ]
    }
   ],
   "source": [
    "def MovingAvg(inpseq, window):\n",
    "    try:\n",
    "        inparr = np.array([inpseq[i:i+window] for i in range(0,len(inpseq)+1-window)])\n",
    "        mv = np.array([i.mean() for i in inparr])\n",
    "    except Exception as e:\n",
    "        print('Exception: ', e)\n",
    "        return null\n",
    "    else:\n",
    "        return mv\n",
    "    \n",
    "\n",
    "mv = MovingAvg([10,20,30,40,50,60,70,80,90,100], 4)\n",
    "print(mv)"
   ]
  }
 ],
 "metadata": {
  "kernelspec": {
   "display_name": "Python 3",
   "language": "python",
   "name": "python3"
  },
  "language_info": {
   "codemirror_mode": {
    "name": "ipython",
    "version": 3
   },
   "file_extension": ".py",
   "mimetype": "text/x-python",
   "name": "python",
   "nbconvert_exporter": "python",
   "pygments_lexer": "ipython3",
   "version": "3.7.4"
  }
 },
 "nbformat": 4,
 "nbformat_minor": 2
}
